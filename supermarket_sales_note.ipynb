{
 "cells": [
  {
   "cell_type": "markdown",
   "metadata": {},
   "source": [
    "# A. Perkenalan\n",
    "\n",
    "=================================================\n",
    "\n",
    "Nama  :Nurdin Atid H\n",
    "\n",
    "Url Tableu : https://public.tableau.com/app/profile/nurdin.atid.h/viz/salesmarketing2/chart2?publish=yes\n",
    "\n",
    "program ini dibuat untuk menganalisa data marketing sales untuk membantu mencari data dan mencari korelas antar variable di dalamnya\n",
    "\n",
    "=================================================\n"
   ]
  },
  {
   "cell_type": "markdown",
   "metadata": {},
   "source": [
    "# B. identifikasi Masalah"
   ]
  },
  {
   "cell_type": "markdown",
   "metadata": {},
   "source": [
    "### 1. pada bagian ini dijelaskan menganai problem statement dan penjabaran masalah"
   ]
  },
  {
   "cell_type": "markdown",
   "metadata": {},
   "source": [
    "a. Topik Permasalahan : \"Analisis Performa Branch Ritel\"\n",
    "b. Problem Statement : Tujuan dari analisis ini adalah untuk memahami performa cabang penjualan, profil pelanggan, dan dampak faktor-faktor tertentu terhadap penjualan dan keuntungan suatu branch dalam periode bulan januari 2019 - maret 2019\n",
    "\n",
    "c. Latar Belakang : \"Latar belakang permasalahan untuk analisis data ini adalah untuk memahami dan meningkatkan kinerja penjualan dan pemasaran sebuah perusahaan ritel yang memiliki beberapa cabang di tiga kota yang berbeda. Dalam kompetisi pasar yang semakin ketat, perusahaan ingin mendapatkan wawasan lebih dalam tentang bagaimana cabang-cabangnya berkinerja, siapa pelanggan mereka, faktor-faktor yang memengaruhi penjualan, serta produk mana yang paling sukses. Dengan pemahaman yang lebih baik tentang data penjualan dan perilaku pelanggan, perusahaan berharap dapat mengambil keputusan yang lebih cerdas untuk meningkatkan penjualan, keuntungan, dan kepuasan pelanggan.\"\n",
    "\n",
    "d. Penjabaran Masalah :\n",
    "\n",
    "A. Analisis Performa Cabang:\n",
    "\n",
    "Bagaimana performa masing-masing cabang berdasarkan total penjualan ('Total') dan pendapatan kotor ('Gross Income')?\n",
    "\n",
    "B. Segmentasi Pelanggan:\n",
    "\n",
    "Bagaimana kita dapat mengklasifikasikan pelanggan berdasarkan jenis ('Customer Type'), gender, dan produk yang mereka beli?\n",
    "\n",
    "C. Pengaruh Rating Terhadap Penjualan:\n",
    "\n",
    "Apakah ada korelasi antara tingkat penilaian ('Rating') dan total penjualan atau pendapatan kotor?\n",
    "\n",
    "D. Distribusi Produk Terlaris:\n",
    "\n",
    "Produk apa yang paling banyak terjual dan menghasilkan pendapatan tertinggi ('Gross Income')? Bagaimana produk ini berbeda di berbagai cabang?\n",
    "\n",
    "E. Pengaruh Harga dan Kuantitas:\n",
    "Bagaimana harga per unit ('Unit Price') dan jumlah produk ('Quantity') berpengaruh terhadap pendapatan kotor ('Gross Income')?\n",
    "\n",
    "F. Performa Kota:\n",
    "Bagaimana performa penjualan di berbagai kota mempengaruhi pendapatan kotor?\n",
    "\n",
    "G. Tentukan central tendesi skenews dan kurtosis dari harga, kuantitas, dan gross income.\n",
    "\n"
   ]
  },
  {
   "cell_type": "markdown",
   "metadata": {},
   "source": [
    "# Data Loading\n",
    "\n",
    "### Pengambilan data dari kaggle.com\n",
    "\n",
    "link sumber data : [klik disini](https://www.kaggle.com/datasets/aungpyaeap/supermarket-sales/) "
   ]
  },
  {
   "cell_type": "code",
   "execution_count": 3,
   "metadata": {},
   "outputs": [
    {
     "name": "stdout",
     "output_type": "stream",
     "text": [
      "Requirement already satisfied: bokeh in c:\\users\\master\\appdata\\local\\packages\\pythonsoftwarefoundation.python.3.11_qbz5n2kfra8p0\\localcache\\local-packages\\python311\\site-packages (3.3.0)\n",
      "Requirement already satisfied: Jinja2>=2.9 in c:\\users\\master\\appdata\\local\\packages\\pythonsoftwarefoundation.python.3.11_qbz5n2kfra8p0\\localcache\\local-packages\\python311\\site-packages (from bokeh) (3.1.2)\n",
      "Requirement already satisfied: contourpy>=1 in c:\\users\\master\\appdata\\local\\packages\\pythonsoftwarefoundation.python.3.11_qbz5n2kfra8p0\\localcache\\local-packages\\python311\\site-packages (from bokeh) (1.1.1)\n",
      "Requirement already satisfied: numpy>=1.16 in c:\\users\\master\\appdata\\local\\packages\\pythonsoftwarefoundation.python.3.11_qbz5n2kfra8p0\\localcache\\local-packages\\python311\\site-packages (from bokeh) (1.26.0)\n",
      "Requirement already satisfied: packaging>=16.8 in c:\\users\\master\\appdata\\local\\packages\\pythonsoftwarefoundation.python.3.11_qbz5n2kfra8p0\\localcache\\local-packages\\python311\\site-packages (from bokeh) (23.1)\n",
      "Requirement already satisfied: pandas>=1.2 in c:\\users\\master\\appdata\\local\\packages\\pythonsoftwarefoundation.python.3.11_qbz5n2kfra8p0\\localcache\\local-packages\\python311\\site-packages (from bokeh) (2.1.0)\n",
      "Requirement already satisfied: pillow>=7.1.0 in c:\\users\\master\\appdata\\local\\packages\\pythonsoftwarefoundation.python.3.11_qbz5n2kfra8p0\\localcache\\local-packages\\python311\\site-packages (from bokeh) (9.5.0)\n",
      "Requirement already satisfied: PyYAML>=3.10 in c:\\users\\master\\appdata\\local\\packages\\pythonsoftwarefoundation.python.3.11_qbz5n2kfra8p0\\localcache\\local-packages\\python311\\site-packages (from bokeh) (6.0.1)\n",
      "Requirement already satisfied: tornado>=5.1 in c:\\users\\master\\appdata\\local\\packages\\pythonsoftwarefoundation.python.3.11_qbz5n2kfra8p0\\localcache\\local-packages\\python311\\site-packages (from bokeh) (6.3.3)\n",
      "Requirement already satisfied: xyzservices>=2021.09.1 in c:\\users\\master\\appdata\\local\\packages\\pythonsoftwarefoundation.python.3.11_qbz5n2kfra8p0\\localcache\\local-packages\\python311\\site-packages (from bokeh) (2023.10.0)\n",
      "Requirement already satisfied: MarkupSafe>=2.0 in c:\\users\\master\\appdata\\local\\packages\\pythonsoftwarefoundation.python.3.11_qbz5n2kfra8p0\\localcache\\local-packages\\python311\\site-packages (from Jinja2>=2.9->bokeh) (2.1.3)\n",
      "Requirement already satisfied: python-dateutil>=2.8.2 in c:\\users\\master\\appdata\\local\\packages\\pythonsoftwarefoundation.python.3.11_qbz5n2kfra8p0\\localcache\\local-packages\\python311\\site-packages (from pandas>=1.2->bokeh) (2.8.2)\n",
      "Requirement already satisfied: pytz>=2020.1 in c:\\users\\master\\appdata\\local\\packages\\pythonsoftwarefoundation.python.3.11_qbz5n2kfra8p0\\localcache\\local-packages\\python311\\site-packages (from pandas>=1.2->bokeh) (2023.3.post1)\n",
      "Requirement already satisfied: tzdata>=2022.1 in c:\\users\\master\\appdata\\local\\packages\\pythonsoftwarefoundation.python.3.11_qbz5n2kfra8p0\\localcache\\local-packages\\python311\\site-packages (from pandas>=1.2->bokeh) (2023.3)\n",
      "Requirement already satisfied: six>=1.5 in c:\\users\\master\\appdata\\local\\packages\\pythonsoftwarefoundation.python.3.11_qbz5n2kfra8p0\\localcache\\local-packages\\python311\\site-packages (from python-dateutil>=2.8.2->pandas>=1.2->bokeh) (1.16.0)\n"
     ]
    }
   ],
   "source": [
    "#import library\n",
    "import numpy as np\n",
    "import pandas as pd\n",
    "import matplotlib.pyplot as plt \n",
    "import seaborn as sns \n",
    "\n",
    "#instal bokeh untuk menampilkan grafik dan data interaktif\n",
    "!pip install bokeh\n",
    "from bokeh.plotting import figure, show\n",
    "from bokeh.io import curdoc\n",
    "from bokeh.models import ColumnDataSource\n",
    "from bokeh.transform import factor_cmap\n",
    "from bokeh.palettes import Category20c"
   ]
  },
  {
   "cell_type": "code",
   "execution_count": 4,
   "metadata": {},
   "outputs": [],
   "source": [
    "#import data yang sudah di download dari kaggle.com\n",
    "data = pd.read_csv('supermarket_sales.csv')"
   ]
  },
  {
   "cell_type": "code",
   "execution_count": 5,
   "metadata": {},
   "outputs": [
    {
     "data": {
      "text/html": [
       "<div>\n",
       "<style scoped>\n",
       "    .dataframe tbody tr th:only-of-type {\n",
       "        vertical-align: middle;\n",
       "    }\n",
       "\n",
       "    .dataframe tbody tr th {\n",
       "        vertical-align: top;\n",
       "    }\n",
       "\n",
       "    .dataframe thead th {\n",
       "        text-align: right;\n",
       "    }\n",
       "</style>\n",
       "<table border=\"1\" class=\"dataframe\">\n",
       "  <thead>\n",
       "    <tr style=\"text-align: right;\">\n",
       "      <th></th>\n",
       "      <th>Invoice ID</th>\n",
       "      <th>Branch</th>\n",
       "      <th>City</th>\n",
       "      <th>Customer type</th>\n",
       "      <th>Gender</th>\n",
       "      <th>Product line</th>\n",
       "      <th>Unit price</th>\n",
       "      <th>Quantity</th>\n",
       "      <th>Tax 5%</th>\n",
       "      <th>Total</th>\n",
       "      <th>Date</th>\n",
       "      <th>Time</th>\n",
       "      <th>Payment</th>\n",
       "      <th>cogs</th>\n",
       "      <th>gross margin percentage</th>\n",
       "      <th>gross income</th>\n",
       "      <th>Rating</th>\n",
       "    </tr>\n",
       "  </thead>\n",
       "  <tbody>\n",
       "    <tr>\n",
       "      <th>0</th>\n",
       "      <td>750-67-8428</td>\n",
       "      <td>A</td>\n",
       "      <td>Yangon</td>\n",
       "      <td>Member</td>\n",
       "      <td>Female</td>\n",
       "      <td>Health and beauty</td>\n",
       "      <td>74.69</td>\n",
       "      <td>7</td>\n",
       "      <td>26.1415</td>\n",
       "      <td>548.9715</td>\n",
       "      <td>1/5/2019</td>\n",
       "      <td>13:08</td>\n",
       "      <td>Ewallet</td>\n",
       "      <td>522.83</td>\n",
       "      <td>4.761905</td>\n",
       "      <td>26.1415</td>\n",
       "      <td>9.1</td>\n",
       "    </tr>\n",
       "    <tr>\n",
       "      <th>1</th>\n",
       "      <td>226-31-3081</td>\n",
       "      <td>C</td>\n",
       "      <td>Naypyitaw</td>\n",
       "      <td>Normal</td>\n",
       "      <td>Female</td>\n",
       "      <td>Electronic accessories</td>\n",
       "      <td>15.28</td>\n",
       "      <td>5</td>\n",
       "      <td>3.8200</td>\n",
       "      <td>80.2200</td>\n",
       "      <td>3/8/2019</td>\n",
       "      <td>10:29</td>\n",
       "      <td>Cash</td>\n",
       "      <td>76.40</td>\n",
       "      <td>4.761905</td>\n",
       "      <td>3.8200</td>\n",
       "      <td>9.6</td>\n",
       "    </tr>\n",
       "    <tr>\n",
       "      <th>2</th>\n",
       "      <td>631-41-3108</td>\n",
       "      <td>A</td>\n",
       "      <td>Yangon</td>\n",
       "      <td>Normal</td>\n",
       "      <td>Male</td>\n",
       "      <td>Home and lifestyle</td>\n",
       "      <td>46.33</td>\n",
       "      <td>7</td>\n",
       "      <td>16.2155</td>\n",
       "      <td>340.5255</td>\n",
       "      <td>3/3/2019</td>\n",
       "      <td>13:23</td>\n",
       "      <td>Credit card</td>\n",
       "      <td>324.31</td>\n",
       "      <td>4.761905</td>\n",
       "      <td>16.2155</td>\n",
       "      <td>7.4</td>\n",
       "    </tr>\n",
       "    <tr>\n",
       "      <th>3</th>\n",
       "      <td>123-19-1176</td>\n",
       "      <td>A</td>\n",
       "      <td>Yangon</td>\n",
       "      <td>Member</td>\n",
       "      <td>Male</td>\n",
       "      <td>Health and beauty</td>\n",
       "      <td>58.22</td>\n",
       "      <td>8</td>\n",
       "      <td>23.2880</td>\n",
       "      <td>489.0480</td>\n",
       "      <td>1/27/2019</td>\n",
       "      <td>20:33</td>\n",
       "      <td>Ewallet</td>\n",
       "      <td>465.76</td>\n",
       "      <td>4.761905</td>\n",
       "      <td>23.2880</td>\n",
       "      <td>8.4</td>\n",
       "    </tr>\n",
       "    <tr>\n",
       "      <th>4</th>\n",
       "      <td>373-73-7910</td>\n",
       "      <td>A</td>\n",
       "      <td>Yangon</td>\n",
       "      <td>Normal</td>\n",
       "      <td>Male</td>\n",
       "      <td>Sports and travel</td>\n",
       "      <td>86.31</td>\n",
       "      <td>7</td>\n",
       "      <td>30.2085</td>\n",
       "      <td>634.3785</td>\n",
       "      <td>2/8/2019</td>\n",
       "      <td>10:37</td>\n",
       "      <td>Ewallet</td>\n",
       "      <td>604.17</td>\n",
       "      <td>4.761905</td>\n",
       "      <td>30.2085</td>\n",
       "      <td>5.3</td>\n",
       "    </tr>\n",
       "  </tbody>\n",
       "</table>\n",
       "</div>"
      ],
      "text/plain": [
       "    Invoice ID Branch       City Customer type  Gender  \\\n",
       "0  750-67-8428      A     Yangon        Member  Female   \n",
       "1  226-31-3081      C  Naypyitaw        Normal  Female   \n",
       "2  631-41-3108      A     Yangon        Normal    Male   \n",
       "3  123-19-1176      A     Yangon        Member    Male   \n",
       "4  373-73-7910      A     Yangon        Normal    Male   \n",
       "\n",
       "             Product line  Unit price  Quantity   Tax 5%     Total       Date  \\\n",
       "0       Health and beauty       74.69         7  26.1415  548.9715   1/5/2019   \n",
       "1  Electronic accessories       15.28         5   3.8200   80.2200   3/8/2019   \n",
       "2      Home and lifestyle       46.33         7  16.2155  340.5255   3/3/2019   \n",
       "3       Health and beauty       58.22         8  23.2880  489.0480  1/27/2019   \n",
       "4       Sports and travel       86.31         7  30.2085  634.3785   2/8/2019   \n",
       "\n",
       "    Time      Payment    cogs  gross margin percentage  gross income  Rating  \n",
       "0  13:08      Ewallet  522.83                 4.761905       26.1415     9.1  \n",
       "1  10:29         Cash   76.40                 4.761905        3.8200     9.6  \n",
       "2  13:23  Credit card  324.31                 4.761905       16.2155     7.4  \n",
       "3  20:33      Ewallet  465.76                 4.761905       23.2880     8.4  \n",
       "4  10:37      Ewallet  604.17                 4.761905       30.2085     5.3  "
      ]
     },
     "execution_count": 5,
     "metadata": {},
     "output_type": "execute_result"
    }
   ],
   "source": [
    "#Melihat beberapa baris pertama data:\n",
    "data.head()"
   ]
  },
  {
   "cell_type": "markdown",
   "metadata": {},
   "source": [
    "# D. Data Cleaning"
   ]
  },
  {
   "cell_type": "code",
   "execution_count": 6,
   "metadata": {},
   "outputs": [
    {
     "name": "stdout",
     "output_type": "stream",
     "text": [
      "<class 'pandas.core.frame.DataFrame'>\n",
      "RangeIndex: 1000 entries, 0 to 999\n",
      "Data columns (total 17 columns):\n",
      " #   Column                   Non-Null Count  Dtype  \n",
      "---  ------                   --------------  -----  \n",
      " 0   Invoice ID               1000 non-null   object \n",
      " 1   Branch                   1000 non-null   object \n",
      " 2   City                     1000 non-null   object \n",
      " 3   Customer type            1000 non-null   object \n",
      " 4   Gender                   1000 non-null   object \n",
      " 5   Product line             1000 non-null   object \n",
      " 6   Unit price               1000 non-null   float64\n",
      " 7   Quantity                 1000 non-null   int64  \n",
      " 8   Tax 5%                   1000 non-null   float64\n",
      " 9   Total                    1000 non-null   float64\n",
      " 10  Date                     1000 non-null   object \n",
      " 11  Time                     1000 non-null   object \n",
      " 12  Payment                  1000 non-null   object \n",
      " 13  cogs                     1000 non-null   float64\n",
      " 14  gross margin percentage  1000 non-null   float64\n",
      " 15  gross income             1000 non-null   float64\n",
      " 16  Rating                   1000 non-null   float64\n",
      "dtypes: float64(7), int64(1), object(9)\n",
      "memory usage: 132.9+ KB\n"
     ]
    }
   ],
   "source": [
    "data.info()"
   ]
  },
  {
   "cell_type": "markdown",
   "metadata": {},
   "source": [
    "data yang kita dapat terdidiri dari 17 kolom dan 1000 baris."
   ]
  },
  {
   "cell_type": "code",
   "execution_count": 7,
   "metadata": {},
   "outputs": [
    {
     "data": {
      "text/plain": [
       "Invoice ID                  object\n",
       "Branch                      object\n",
       "City                        object\n",
       "Customer type               object\n",
       "Gender                      object\n",
       "Product line                object\n",
       "Unit price                 float64\n",
       "Quantity                     int64\n",
       "Tax 5%                     float64\n",
       "Total                      float64\n",
       "Date                        object\n",
       "Time                        object\n",
       "Payment                     object\n",
       "cogs                       float64\n",
       "gross margin percentage    float64\n",
       "gross income               float64\n",
       "Rating                     float64\n",
       "dtype: object"
      ]
     },
     "execution_count": 7,
     "metadata": {},
     "output_type": "execute_result"
    }
   ],
   "source": [
    "#Mengecek tipe data kolom\n",
    "data.dtypes "
   ]
  },
  {
   "cell_type": "markdown",
   "metadata": {},
   "source": [
    "seluruh kolom sudah sesuai dengan data type yang seharusnya"
   ]
  },
  {
   "cell_type": "code",
   "execution_count": 8,
   "metadata": {},
   "outputs": [
    {
     "data": {
      "text/plain": [
       "Invoice ID                 0\n",
       "Branch                     0\n",
       "City                       0\n",
       "Customer type              0\n",
       "Gender                     0\n",
       "Product line               0\n",
       "Unit price                 0\n",
       "Quantity                   0\n",
       "Tax 5%                     0\n",
       "Total                      0\n",
       "Date                       0\n",
       "Time                       0\n",
       "Payment                    0\n",
       "cogs                       0\n",
       "gross margin percentage    0\n",
       "gross income               0\n",
       "Rating                     0\n",
       "dtype: int64"
      ]
     },
     "execution_count": 8,
     "metadata": {},
     "output_type": "execute_result"
    }
   ],
   "source": [
    "#Mengecek missing values\n",
    "data.isnull().sum()"
   ]
  },
  {
   "cell_type": "markdown",
   "metadata": {},
   "source": [
    "sudah tidak ada missing value jadi proses pengolahan data bisa dilanjutkan"
   ]
  },
  {
   "cell_type": "markdown",
   "metadata": {},
   "source": [
    "# E. Analisis dan Perhitungan"
   ]
  },
  {
   "cell_type": "code",
   "execution_count": 9,
   "metadata": {},
   "outputs": [
    {
     "data": {
      "text/plain": [
       "City\n",
       "Yangon       340\n",
       "Mandalay     332\n",
       "Naypyitaw    328\n",
       "Name: count, dtype: int64"
      ]
     },
     "execution_count": 9,
     "metadata": {},
     "output_type": "execute_result"
    }
   ],
   "source": [
    "#menemukan kota apa saja dalam data dan jumlah masing2 kota dari keseluruhan data\n",
    "data[\"City\"].value_counts()"
   ]
  },
  {
   "cell_type": "markdown",
   "metadata": {},
   "source": [
    "Jumlah kemunculan masing-masing nilai unik dalam kolom \"City\". Secara khusus, ini menunjukkan:\n",
    "\n",
    "\"Yangon\" muncul sebanyak 340 kali dalam kolom \"City\".\n",
    "\"Mandalay\" muncul sebanyak 332 kali dalam kolom \"City\".\n",
    "\"Naypyitaw\" muncul sebanyak 328 kali dalam kolom \"City\".\n",
    "Informasi ini dapat sangat bermanfaat untuk menganalisis distribusi kota dalam dataset Anda. Dalam DataFrame Anda, kolom \"City\" memiliki tiga nilai unik, dan ini adalah frekuensinya. Dengan kata lain, ada 340 entri dengan nilai \"Yangon,\" 332 entri dengan nilai \"Mandalay,\" dan 328 entri dengan nilai \"Naypyitaw\" dalam kolom \"City.\""
   ]
  },
  {
   "cell_type": "code",
   "execution_count": 10,
   "metadata": {},
   "outputs": [
    {
     "data": {
      "text/plain": [
       "<Axes: title={'center': 'City'}, ylabel='count'>"
      ]
     },
     "execution_count": 10,
     "metadata": {},
     "output_type": "execute_result"
    },
    {
     "data": {
      "image/png": "[encoded data removed]",
      "text/plain": [
       "<Figure size 640x480 with 1 Axes>"
      ]
     },
     "metadata": {},
     "output_type": "display_data"
    }
   ],
   "source": [
    "#menampilkan chart yang mewakili kota pada data\n",
    "curdoc().theme = 'dark_minimal'\n",
    "data[\"City\"].value_counts().plot.pie(title='City')"
   ]
  },
  {
   "cell_type": "code",
   "execution_count": 11,
   "metadata": {},
   "outputs": [
    {
     "data": {
      "text/plain": [
       "City       Branch\n",
       "Mandalay   B         332\n",
       "Naypyitaw  C         328\n",
       "Yangon     A         340\n",
       "Name: count, dtype: int64"
      ]
     },
     "execution_count": 11,
     "metadata": {},
     "output_type": "execute_result"
    }
   ],
   "source": [
    "#menampikan  jumlah data yang disandingkan antara city dan branch\n",
    "data.groupby('City')['Branch'].value_counts()"
   ]
  },
  {
   "cell_type": "markdown",
   "metadata": {},
   "source": [
    "menunjukkan jumlah kemunculan masing-masing pasangan kota dan cabang yang terdapat dalam DataFrame Anda. Ini menggambarkan seberapa sering kombinasi kota dan cabang muncul dalam data Anda.\n",
    "\n",
    "Dalam hasil tersebut, kita dapat melihat:\n",
    "\n",
    "Di \"Mandalay,\" cabang \"B\" muncul sebanyak 332 kali.\n",
    "Di \"Naypyitaw,\" cabang \"C\" muncul sebanyak 328 kali.\n",
    "Di \"Yangon,\" cabang \"A\" muncul sebanyak 340 kali.\n",
    "\n",
    "Ini adalah informasi yang berguna untuk memahami sebaran cabang dalam setiap kota dalam dataset Anda. Data ini memberikan wawasan tentang hubungan antara kota dan cabang di dalam dataset Anda."
   ]
  },
  {
   "cell_type": "code",
   "execution_count": 12,
   "metadata": {},
   "outputs": [
    {
     "data": {
      "text/plain": [
       "Customer type\n",
       "Member    501\n",
       "Normal    499\n",
       "Name: count, dtype: int64"
      ]
     },
     "execution_count": 12,
     "metadata": {},
     "output_type": "execute_result"
    }
   ],
   "source": [
    "#melihat ada berapa jumlah custome type\n",
    "data['Customer type'].value_counts()"
   ]
  },
  {
   "cell_type": "markdown",
   "metadata": {},
   "source": [
    "menunjukkan jumlah kemunculan masing-masing tipe pelanggan (Customer type) dalam kolom \"Customer type\" dari DataFrame Anda. Dalam hal ini:\n",
    "\n",
    "Ada 501 entri dengan nilai \"Member\" dalam kolom \"Customer type\".\n",
    "Ada 499 entri dengan nilai \"Normal\" dalam kolom \"Customer type\".\n",
    "Ini memberikan ringkasan tentang bagaimana tipe pelanggan terdistribusi dalam dataset Anda. Dengan kata lain, lebih banyak pelanggan dengan tipe \"Member\" daripada tipe \"Normal\" dalam data Anda."
   ]
  },
  {
   "cell_type": "code",
   "execution_count": 13,
   "metadata": {},
   "outputs": [
    {
     "data": {
      "text/plain": [
       "<Axes: title={'center': 'Customer type count'}, xlabel='Customer type'>"
      ]
     },
     "execution_count": 13,
     "metadata": {},
     "output_type": "execute_result"
    },
    {
     "data": {
      "image/png": "[encoded data removed]",
      "text/plain": [
       "<Figure size 640x480 with 1 Axes>"
      ]
     },
     "metadata": {},
     "output_type": "display_data"
    }
   ],
   "source": [
    "data['Customer type'].value_counts().plot.bar(color='green', alpha=0.5, title='Customer type count')"
   ]
  },
  {
   "cell_type": "markdown",
   "metadata": {},
   "source": [
    "Diagram yang menujukan jumlah costumer sesuai costumer type"
   ]
  },
  {
   "cell_type": "code",
   "execution_count": 14,
   "metadata": {},
   "outputs": [
    {
     "data": {
      "text/plain": [
       "Gender\n",
       "Female    501\n",
       "Male      499\n",
       "Name: count, dtype: int64"
      ]
     },
     "execution_count": 14,
     "metadata": {},
     "output_type": "execute_result"
    }
   ],
   "source": [
    "data['Gender'].value_counts()"
   ]
  },
  {
   "cell_type": "markdown",
   "metadata": {},
   "source": [
    "menunjukkan jumlah kemunculan masing-masing jenis kelamin (Gender) dalam kolom \"Gender\" dari DataFrame Anda. Dalam hal ini:\n",
    "\n",
    "Ada 501 entri dengan nilai \"Female\" dalam kolom \"Gender\".\n",
    "Ada 499 entri dengan nilai \"Male\" dalam kolom \"Gender\".\n",
    "Ini memberikan ringkasan tentang sebaran jenis kelamin pelanggan dalam dataset Anda. Dengan kata lain, jumlah pelanggan wanita (\"Female\") sedikit lebih banyak (501) daripada jumlah pelanggan pria (\"Male\") yang berjumlah 499 dalam data Anda."
   ]
  },
  {
   "cell_type": "code",
   "execution_count": 15,
   "metadata": {},
   "outputs": [
    {
     "data": {
      "image/png": "[encoded data removed]",
      "text/plain": [
       "<Figure size 640x480 with 1 Axes>"
      ]
     },
     "metadata": {},
     "output_type": "display_data"
    }
   ],
   "source": [
    "import matplotlib.pyplot as plt\n",
    "\n",
    "# Data proporsi pria dan wanita\n",
    "values = [501, 499]  # Misalnya, 45% pria dan 55% wanita\n",
    "labels = ['Males', 'Females']\n",
    "\n",
    "# Membuat diagram lingkaran\n",
    "plt.pie(values, autopct='%1.1f%%', labels=labels)\n",
    "plt.legend()\n",
    "\n",
    "# Menambahkan judul\n",
    "plt.title('Males VS Females')\n",
    "\n",
    "# Menampilkan diagram lingkaran\n",
    "plt.show()"
   ]
  },
  {
   "cell_type": "markdown",
   "metadata": {},
   "source": [
    "Dari diagram lingkaran terlihat bahwa jumlah pengunjung laki laki dan perumpuan hampir seimbang."
   ]
  },
  {
   "cell_type": "code",
   "execution_count": 16,
   "metadata": {},
   "outputs": [
    {
     "data": {
      "text/plain": [
       "Gender  Customer type\n",
       "Female  Member           261\n",
       "        Normal           240\n",
       "Male    Normal           259\n",
       "        Member           240\n",
       "Name: count, dtype: int64"
      ]
     },
     "execution_count": 16,
     "metadata": {},
     "output_type": "execute_result"
    }
   ],
   "source": [
    "data.groupby('Gender')[\"Customer type\"].value_counts()"
   ]
  },
  {
   "cell_type": "markdown",
   "metadata": {},
   "source": [
    "Jumlah kemunculan masing-masing pasangan jenis kelamin (Gender) dan tipe pelanggan (Customer type) dalam DataFrame Anda. Ini memberikan informasi tentang seberapa sering kombinasi jenis kelamin dan tipe pelanggan muncul dalam dataset Anda. Dalam hal ini:\n",
    "\n",
    "Dalam kategori \"Female\":\n",
    "\n",
    "Ada 261 entri dengan jenis kelamin \"Female\" dan tipe pelanggan \"Member.\"\n",
    "Ada 240 entri dengan jenis kelamin \"Female\" dan tipe pelanggan \"Normal.\"\n",
    "\n",
    "Dalam kategori \"Male\":\n",
    "Ada 259 entri dengan jenis kelamin \"Male\" dan tipe pelanggan \"Normal.\"\n",
    "Ada 240 entri dengan jenis kelamin \"Male\" dan tipe pelanggan \"Member.\"\n",
    "\n",
    "Ini memberikan wawasan tentang bagaimana jenis kelamin pelanggan terkait dengan tipe pelanggan dalam dataset Anda. Misalnya, dalam kategori \"Female,\" lebih banyak pelanggan dengan tipe \"Member\" daripada tipe \"Normal,\" sedangkan dalam kategori \"Male,\" lebih banyak pelanggan dengan tipe \"Normal\" daripada tipe \"Member.\""
   ]
  },
  {
   "cell_type": "code",
   "execution_count": 17,
   "metadata": {},
   "outputs": [
    {
     "data": {
      "text/plain": [
       "Text(0.5, 1.0, 'Gender with customer type ')"
      ]
     },
     "execution_count": 17,
     "metadata": {},
     "output_type": "execute_result"
    },
    {
     "data": {
      "image/png": "[encoded data removed]",
      "text/plain": [
       "<Figure size 640x480 with 1 Axes>"
      ]
     },
     "metadata": {},
     "output_type": "display_data"
    }
   ],
   "source": [
    "\n",
    "sns.countplot(x='Gender',hue='Customer type',data=data)\n",
    "plt.title('Gender with customer type ')"
   ]
  },
  {
   "cell_type": "code",
   "execution_count": 18,
   "metadata": {},
   "outputs": [
    {
     "data": {
      "text/plain": [
       "Payment\n",
       "Ewallet        345\n",
       "Cash           344\n",
       "Credit card    311\n",
       "Name: count, dtype: int64"
      ]
     },
     "execution_count": 18,
     "metadata": {},
     "output_type": "execute_result"
    }
   ],
   "source": [
    "data['Payment'].value_counts()\n"
   ]
  },
  {
   "cell_type": "markdown",
   "metadata": {},
   "source": [
    "menunjukkan jumlah kemunculan masing-masing jenis metode pembayaran (Payment) dalam kolom \"Payment\" dari DataFrame Anda. Dalam hal ini:\n",
    "\n",
    "Ada 345 entri yang menggunakan metode pembayaran \"Ewallet\" dalam kolom \"Payment.\"\n",
    "Ada 344 entri yang menggunakan metode pembayaran \"Cash\" dalam kolom \"Payment.\"\n",
    "Ada 311 entri yang menggunakan metode pembayaran \"Credit card\" dalam kolom \"Payment.\"\n",
    "Ini memberikan ringkasan tentang sebaran metode pembayaran yang digunakan oleh pelanggan dalam dataset Anda. Dengan kata lain, metode pembayaran \"Ewallet\" adalah yang paling umum digunakan, diikuti oleh \"Cash\" dan \"Credit card.\""
   ]
  },
  {
   "cell_type": "code",
   "execution_count": 19,
   "metadata": {},
   "outputs": [
    {
     "data": {
      "text/plain": [
       "<Axes: title={'center': 'Payment count & types'}, ylabel='count'>"
      ]
     },
     "execution_count": 19,
     "metadata": {},
     "output_type": "execute_result"
    },
    {
     "data": {
      "image/png": "[encoded data removed]",
      "text/plain": [
       "<Figure size 640x480 with 1 Axes>"
      ]
     },
     "metadata": {},
     "output_type": "display_data"
    }
   ],
   "source": [
    "data['Payment'].value_counts().plot.pie(title='Payment count & types')"
   ]
  },
  {
   "cell_type": "markdown",
   "metadata": {},
   "source": [
    "### A. Analisis Performa Cabang:"
   ]
  },
  {
   "cell_type": "code",
   "execution_count": 20,
   "metadata": {},
   "outputs": [
    {
     "name": "stdout",
     "output_type": "stream",
     "text": [
      "              Total  gross income\n",
      "Branch                           \n",
      "A       106200.3705     5057.1605\n",
      "B       106197.6720     5057.0320\n",
      "C       110568.7065     5265.1765\n"
     ]
    }
   ],
   "source": [
    "# Menghitung total penjualan dan pendapatan kotor per cabang\n",
    "branch_performance = data.groupby('Branch')[['Total', 'gross income']].sum()\n",
    "print(branch_performance)"
   ]
  },
  {
   "cell_type": "markdown",
   "metadata": {},
   "source": [
    "Hasil yang Anda tunjukkan adalah total penjualan ('Total') dan total pendapatan kotor ('Gross Income') yang dihitung untuk setiap cabang ('Branch') dalam data Anda. Dalam hal ini:\n",
    "\n",
    "Cabang 'A' memiliki total penjualan sebesar 106,200.3705 dan total pendapatan kotor sebesar 5,057.1605.\n",
    "Cabang 'B' memiliki total penjualan sebesar 106,197.6720 dan total pendapatan kotor sebesar 5,057.0320.\n",
    "Cabang 'C' memiliki total penjualan sebesar 110,568.7065 dan total pendapatan kotor sebesar 5,265.1765.\n",
    "\n",
    "Ini memberikan gambaran tentang performa masing-masing cabang dalam hal total penjualan dan pendapatan kotor. Dengan informasi ini, Anda dapat membandingkan kinerja cabang-cabang tersebut. Cabang 'C' memiliki total penjualan dan pendapatan kotor tertinggi, sementara cabang 'A' dan 'B' memiliki total penjualan dan pendapatan kotor yang hampir setara.\n",
    "\n",
    "Informasi ini dapat membantu Anda dalam pengambilan keputusan terkait dengan cabang-cabang Anda, seperti alokasi sumber daya atau perencanaan peningkatan kinerja."
   ]
  },
  {
   "cell_type": "markdown",
   "metadata": {},
   "source": [
    "### B. Segmentasi Pelanggan:"
   ]
  },
  {
   "cell_type": "code",
   "execution_count": 21,
   "metadata": {},
   "outputs": [
    {
     "name": "stdout",
     "output_type": "stream",
     "text": [
      "Customer type  Gender\n",
      "Member         Female    261\n",
      "               Male      240\n",
      "Normal         Female    240\n",
      "               Male      259\n",
      "Name: Invoice ID, dtype: int64\n"
     ]
    }
   ],
   "source": [
    "# Menghitung jumlah pelanggan berdasarkan Customer Type dan Gender\n",
    "customer_segmentation = data.groupby(['Customer type', 'Gender'])['Invoice ID'].count()\n",
    "print(customer_segmentation)"
   ]
  },
  {
   "cell_type": "markdown",
   "metadata": {},
   "source": [
    "Jumlah pelanggan yang telah dikelompokkan berdasarkan 'Customer Type' dan 'Gender'. Dalam hal ini:\n",
    "\n",
    "Pelanggan dengan tipe 'Member' terbagi antara 'Female' (wanita) dan 'Male' (pria). Ada 261 pelanggan wanita dan 240 pelanggan pria yang merupakan anggota (member).\n",
    "Pelanggan dengan tipe 'Normal' juga terbagi antara 'Female' dan 'Male'. Ada 240 pelanggan wanita dan 259 pelanggan pria yang merupakan pelanggan biasa (normal).\n",
    "Ini memberikan pemahaman tentang berapa banyak pelanggan yang dimiliki oleh setiap kombinasi 'Customer Type' (tipe pelanggan) dan 'Gender' (jenis kelamin). Informasi ini dapat digunakan untuk segmentasi pelanggan dan strategi pemasaran yang lebih spesifik, serta untuk memahami komposisi pelanggan Anda berdasarkan karakteristik tersebut."
   ]
  },
  {
   "cell_type": "markdown",
   "metadata": {},
   "source": [
    "### C. Pengaruh Rating Terhadap Penjualan:"
   ]
  },
  {
   "cell_type": "code",
   "execution_count": 22,
   "metadata": {},
   "outputs": [
    {
     "data": {
      "image/png": "[encoded data removed]",
      "text/plain": [
       "<Figure size 640x480 with 2 Axes>"
      ]
     },
     "metadata": {},
     "output_type": "display_data"
    }
   ],
   "source": [
    "num_data = data.select_dtypes(exclude='object')\n",
    "corr = num_data.drop(columns='gross margin percentage').corr()\n",
    "sns.heatmap(corr, annot=True)\n",
    "plt.show()"
   ]
  },
  {
   "cell_type": "code",
   "execution_count": 23,
   "metadata": {},
   "outputs": [
    {
     "name": "stdout",
     "output_type": "stream",
     "text": [
      "-0.036441704997018355\n"
     ]
    }
   ],
   "source": [
    "#menggunakan metode corr untuk menentukan apakah ada korelasi atau tidak\n",
    "rating_sales_correlation = data['Rating'].corr(data['Total'])\n",
    "print(rating_sales_correlation)"
   ]
  },
  {
   "cell_type": "markdown",
   "metadata": {},
   "source": [
    "dalam kasus ini, nilai -0.0364 menunjukkan bahwa ketika rating produk naik atau turun, total penjualan tidak mengalami perubahan yang besar atau konsisten. Meskipun ada korelasi negatif, itu adalah korelasi yang sangat lemah, sehingga sulit untuk membuat kesimpulan yang kuat tentang pengaruh satu variabel terhadap yang lain.\n",
    "Jadi, dalam konteks ini, kita dapat menyimpulkan bahwa perubahan dalam tingkat penilaian produk tidak memiliki pengaruh yang signifikan pada total penjualan. Pada umumnya, korelasi yang lemah tidak dapat digunakan untuk membuat pernyataan kausal tentang hubungan antara dua variabel. Jika Anda ingin mendalami faktor-faktor yang memengaruhi total penjualan, mungkin perlu mempertimbangkan faktor lain yang mungkin berkontribusi lebih signifikan."
   ]
  },
  {
   "cell_type": "markdown",
   "metadata": {},
   "source": [
    "### D. Distribusi Produk Terlaris:"
   ]
  },
  {
   "cell_type": "code",
   "execution_count": 24,
   "metadata": {},
   "outputs": [
    {
     "name": "stdout",
     "output_type": "stream",
     "text": [
      "                        Quantity  gross income\n",
      "Product line                                  \n",
      "Electronic accessories       971     2587.5015\n",
      "Fashion accessories          902     2585.9950\n",
      "Food and beverages           952     2673.5640\n",
      "Health and beauty            854     2342.5590\n",
      "Home and lifestyle           911     2564.8530\n",
      "Sports and travel            920     2624.8965\n"
     ]
    }
   ],
   "source": [
    "# Menghitung total penjualan dan pendapatan kotor per jenis produk\n",
    "top_selling_products = data.groupby('Product line')[['Quantity', 'gross income']].sum()\n",
    "print(top_selling_products)"
   ]
  },
  {
   "cell_type": "markdown",
   "metadata": {},
   "source": [
    "dari data di atas kita dapatkan informasi :\n",
    "\n",
    "\"Electronic accessories\" memiliki total 971 unit produk terjual dan pendapatan kotor sebesar 2,587.5015.\n",
    "\"Fashion accessories\" memiliki total 902 unit produk terjual dan pendapatan kotor sebesar 2,585.9950.\n",
    "\"Food and beverages\" memiliki total 952 unit produk terjual dan pendapatan kotor sebesar 2,673.5640.\n",
    "\"Health and beauty\" memiliki total 854 unit produk terjual dan pendapatan kotor sebesar 2,342.5590.\n",
    "\"Home and lifestyle\" memiliki total 911 unit produk terjual dan pendapatan kotor sebesar 2,564.8530.\n",
    "\"Sports and travel\" memiliki total 920 unit produk terjual dan pendapatan kotor sebesar 2,624.8965.\n",
    "\n",
    "Dengan informasi ini, Anda dapat melihat jumlah produk yang terjual dan berapa besar pendapatan yang dihasilkan oleh setiap jenis produk. Ini dapat membantu Anda memahami kinerja relatif dari jenis produk yang berbeda dan mungkin memandu keputusan bisnis seperti perencanaan persediaan atau pemasaran."
   ]
  },
  {
   "cell_type": "markdown",
   "metadata": {},
   "source": [
    "### E. Pengaruh Harga dan Kuantitas:"
   ]
  },
  {
   "cell_type": "code",
   "execution_count": 25,
   "metadata": {},
   "outputs": [
    {
     "name": "stdout",
     "output_type": "stream",
     "text": [
      "0.010777564342497287\n"
     ]
    }
   ],
   "source": [
    "#menggunakan metode corr untuk menentukan apakah ada korelasi atau tidak\n",
    "rating_sales_correlation = data['Quantity'].corr(data['Unit price'])\n",
    "print(rating_sales_correlation)"
   ]
  },
  {
   "cell_type": "markdown",
   "metadata": {},
   "source": [
    "Tidak ada korelasi antara Quantity dan Unit price"
   ]
  },
  {
   "cell_type": "markdown",
   "metadata": {},
   "source": [
    "### F. Performa Kota:"
   ]
  },
  {
   "cell_type": "code",
   "execution_count": 26,
   "metadata": {},
   "outputs": [
    {
     "name": "stdout",
     "output_type": "stream",
     "text": [
      "                Total  gross income\n",
      "City                               \n",
      "Mandalay   319.872506     15.232024\n",
      "Naypyitaw  337.099715     16.052367\n",
      "Yangon     312.354031     14.874001\n"
     ]
    }
   ],
   "source": [
    "# Menghitung rata-rata total penjualan dan pendapatan kotor per kota\n",
    "city_performance = data.groupby('City')[['Total', 'gross income']].mean()\n",
    "print(city_performance)"
   ]
  },
  {
   "cell_type": "markdown",
   "metadata": {},
   "source": [
    "Rata-rata total penjualan ('Total') dan rata-rata pendapatan kotor ('Gross Income') yang dihitung untuk masing-masing kota ('City') dalam data Anda. Dalam hal ini:\n",
    "\n",
    "Kota \"Mandalay\" memiliki rata-rata total penjualan sebesar 319.872506 dan rata-rata pendapatan kotor sebesar 15.232024.\n",
    "Kota \"Naypyitaw\" memiliki rata-rata total penjualan sebesar 337.099715 dan rata-rata pendapatan kotor sebesar 16.052367.\n",
    "Kota \"Yangon\" memiliki rata-rata total penjualan sebesar 312.354031 dan rata-rata pendapatan kotor sebesar 14.874001.\n",
    "\n",
    "menjelaskan tentang rata-rata kinerja penjualan dan pendapatan kotor di berbagai kota. Dengan informasi ini, Anda dapat memahami bagaimana penjualan dan pendapatan kotor bervariasi antara lokasi geografis yang berbeda, yang dapat memengaruhi perencanaan bisnis, promosi, dan pengelolaan cabang atau toko di setiap kota."
   ]
  },
  {
   "cell_type": "markdown",
   "metadata": {},
   "source": [
    "### G. Tentukan central tendesi skenews dan kurtosis dari harga, kuantitas, dan gross income."
   ]
  },
  {
   "cell_type": "markdown",
   "metadata": {},
   "source": [
    "#### a. Central tendesi, skenews dan kurtosis dari harga / Unit price"
   ]
  },
  {
   "cell_type": "code",
   "execution_count": 33,
   "metadata": {},
   "outputs": [
    {
     "name": "stdout",
     "output_type": "stream",
     "text": [
      "Mean_Unit price : 55.67213\n",
      "Median_Unit_price : 55.230000000000004\n",
      "Standard Deviation Unit price produk: 26.49462834791978\n",
      "Skewness: 0.007077447853328846\n",
      "Kurtosis: -1.2185914281163357\n"
     ]
    }
   ],
   "source": [
    "#pengambilan data mean median untuk Unit price produk\n",
    "Median_Unit_price = data['Unit price'].mean()\n",
    "print(f\"Mean_Unit price :\", Median_Unit_price)\n",
    "Median_Unit_price = data['Unit price'].median()\n",
    "print(f\"Median_Unit_price :\", Median_Unit_price)\n",
    "\n",
    "#mencari st dev Unit price produk\n",
    "std = data['Unit price'].std()\n",
    "print(f'Standard Deviation Unit price produk:',std)\n",
    "\n",
    "#mencari nilai skewnes Unit price produk\n",
    "print(f\"Skewness: {data['Unit price'].skew()}\")\n",
    "\n",
    "#mencari nilai kurtosis\n",
    "print(f\"Kurtosis: {data['Unit price'].kurtosis()}\")\n"
   ]
  },
  {
   "cell_type": "markdown",
   "metadata": {},
   "source": [
    "Mean (Rata-rata): Nilai mean (rata-rata) dari kolom \"Unit price\" produk adalah sekitar 55.67. Ini menunjukkan rata-rata harga satuan produk dalam dataset Anda.\n",
    "\n",
    "Median: Nilai median dari kolom \"Unit price\" produk adalah sekitar 55.23. Median adalah nilai tengah dalam distribusi data harga satuan produk.\n",
    "\n",
    "Standar Deviasi: Standar deviasi dari kolom \"Unit price\" produk adalah sekitar 26.49. Standar deviasi mengukur sebaran data harga satuan produk dan memberi tahu seberapa jauh data berbeda dari rata-rata. Nilai yang lebih tinggi menunjukkan variasi yang lebih besar dalam harga produk.\n",
    "\n",
    "Skewness (Skew): Nilai skewness adalah sekitar 0.0071. Skewness mengukur sejauh mana distribusi data harga satuan produk condong ke satu sisi. Nilai positif menunjukkan kemiringan ke kanan (distribusi dengan ekor panjang di sebelah kanan rata-rata), sedangkan nilai negatif menunjukkan kemiringan ke kiri (distribusi dengan ekor panjang di sebelah kiri rata-rata). Nilai mendekati nol (seperti dalam kasus ini) menunjukkan bahwa distribusi cenderung simetris.\n",
    "\n",
    "Kurtosis: Nilai kurtosis adalah sekitar -1.219. Kurtosis mengukur seberapa tajam atau pipih distribusi data harga satuan produk. Nilai negatif menunjukkan distribusi yang lebih pipih (kurang tajam) dibandingkan dengan distribusi normal (distribusi normal memiliki kurtosis 0).\n",
    "\n",
    "Dengan demikian, data harga satuan produk cenderung memiliki rata-rata yang hampir sama dengan median, dan distribusinya cenderung simetris (skewness mendekati nol). Namun, distribusi ini cenderung lebih pipih (kurang tajam) daripada distribusi normal (kurtosis negatif). Harga satuan produk berkisar dengan standar deviasi sekitar 26.49.\n",
    "\n"
   ]
  },
  {
   "cell_type": "markdown",
   "metadata": {},
   "source": [
    "#### b. Central tendesi, skenews dan kurtosis dari kuantitas"
   ]
  },
  {
   "cell_type": "code",
   "execution_count": 34,
   "metadata": {},
   "outputs": [
    {
     "name": "stdout",
     "output_type": "stream",
     "text": [
      "Mean_Quantity : 5.51\n",
      "Median_Quantity : 5.0\n",
      "Standard Deviation Quantity produk: 2.923430595455696\n",
      "Skewness: 0.012941048017172435\n",
      "Kurtosis: -1.2155472264752434\n"
     ]
    }
   ],
   "source": [
    "#pengambilan data mean median untuk Quantity produk\n",
    "Median_Quantity = data['Quantity'].mean()\n",
    "print(f\"Mean_Quantity :\", Median_Quantity)\n",
    "Median_Quantity = data['Quantity'].median()\n",
    "print(f\"Median_Quantity :\", Median_Quantity)\n",
    "\n",
    "#mencari st dev Quantity produk\n",
    "std = data['Quantity'].std()\n",
    "print(f'Standard Deviation Quantity produk:',std)\n",
    "\n",
    "#mencari nilai skewnes Quantity produk\n",
    "print(f\"Skewness: {data['Quantity'].skew()}\")\n",
    "\n",
    "#mencari nilai kurtosis\n",
    "print(f\"Kurtosis: {data['Quantity'].kurtosis()}\")"
   ]
  },
  {
   "cell_type": "markdown",
   "metadata": {},
   "source": [
    "Mean (Rata-Rata): Mean_Quantity adalah sekitar 5.51. Ini mengindikasikan bahwa rata-rata kuantitas penjualan dari produk tersebut adalah sekitar 5.51 unit.\n",
    "\n",
    "Median (Nilai Tengah): Median_Quantity adalah sekitar 5.0. Median adalah nilai tengah dari data saat data diurutkan dari terkecil hingga terbesar. Nilai median ini mengindikasikan bahwa setengah dari data memiliki kuantitas kurang dari 5.0, dan setengah lainnya memiliki kuantitas lebih dari 5.0.\n",
    "\n",
    "Standard Deviation (Deviasi Standar): Standard Deviation Quantity produk adalah sekitar 2.923. Deviasi standar mengukur sebaran data. Semakin tinggi deviasi standar, semakin besar sebaran data dari rata-rata. Dalam kasus ini, deviasi standar yang relatif rendah mengindikasikan bahwa sebagian besar data memiliki kuantitas penjualan yang mendekati rata-rata.\n",
    "\n",
    "Skewness (Skewness): Skewness adalah sekitar 0.0129. Skewness mengukur sejauh mana distribusi data condong ke kiri (skewness negatif) atau ke kanan (skewness positif) dari rata-rata. Nilai skewness yang mendekati nol menunjukkan bahwa distribusi data memiliki sedikit atau tidak ada kemiringan signifikan.\n",
    "\n",
    "Kurtosis (Kurtosis): Kurtosis adalah sekitar -1.216. Kurtosis mengukur tajam atau tumpulnya distribusi data. Nilai negatif seperti ini mengindikasikan bahwa distribusi data memiliki ekor yang lebih lebar daripada distribusi normal standar (mesokurtik) yang memiliki kurtosis 0. Ini mengindikasikan bahwa distribusi memiliki ekor yang lebih tumpul.\n",
    "\n",
    "Dalam konteks ini, kuantitas penjualan (Quantity) cenderung memiliki rata-rata yang tidak jauh dari nilai median (5.51 vs. 5.0), dan distribusi datanya memiliki sedikit skewness positif dan ekor yang lebih lebar (kurtosis negatif), meskipun tidak signifikan."
   ]
  },
  {
   "cell_type": "markdown",
   "metadata": {},
   "source": [
    "#### c. Central tendesi, skenews dan kurtosis dari gross income"
   ]
  },
  {
   "cell_type": "code",
   "execution_count": 31,
   "metadata": {},
   "outputs": [
    {
     "name": "stdout",
     "output_type": "stream",
     "text": [
      "Mean_gross income : 15.379368999999999\n",
      "Median_gross_income : 12.088000000000001\n",
      "Standard Deviation gross income produk: 11.708825480998659\n",
      "Skewness: 0.8925698049581423\n",
      "Kurtosis: -0.0818847579043509\n"
     ]
    }
   ],
   "source": [
    "#pengambilan data mean median untuk gross income produk\n",
    "Median_gross_income = data['gross income'].mean()\n",
    "print(f\"Mean_gross income :\", Median_gross_income)\n",
    "Median_gross_income = data['gross income'].median()\n",
    "print(f\"Median_gross_income :\", Median_gross_income)\n",
    "\n",
    "#mencari st dev gross income produk\n",
    "std = data['gross income'].std()\n",
    "print(f'Standard Deviation gross income produk:',std)\n",
    "\n",
    "#mencari nilai skewnes gross income produk\n",
    "print(f\"Skewness: {data['gross income'].skew()}\")\n",
    "\n",
    "#mencari nilai kurtosis\n",
    "print(f\"Kurtosis: {data['gross income'].kurtosis()}\")\n"
   ]
  },
  {
   "cell_type": "markdown",
   "metadata": {},
   "source": [
    "Mean_gross income (Rata-Rata Pendapatan Kotor): Nilainya adalah sekitar 15.379368. Ini mengindikasikan bahwa rata-rata pendapatan kotor dari produk adalah sekitar 15.379368.\n",
    "\n",
    "Median_Unit_price (Nilai Tengah Pendapatan Kotor Produk): Nilainya adalah sekitar 12.088. Median adalah nilai tengah dalam data saat data diurutkan dari terkecil hingga terbesar. Dalam hal ini, nilai median adalah 12.088.\n",
    "\n",
    "Standard Deviation gross income produk (Deviasi Standar Pendapatan Kotor Produk): Nilainya adalah sekitar 11.708825. Deviasi standar mengukur sebaran data. Semakin tinggi deviasi standar, semakin besar sebaran data dari rata-rata.\n",
    "\n",
    "Skewness (Skewness): Nilainya adalah sekitar 0.8926. Skewness mengukur sejauh mana distribusi data condong ke kiri (skewness negatif) atau ke kanan (skewness positif) dari rata-rata. Nilai positif seperti ini mengindikasikan bahwa distribusi data memiliki kemiringan positif, yang berarti lebih banyak data berada di sebelah kiri rata-rata.\n",
    "\n",
    "Kurtosis (Kurtosis): Nilainya adalah sekitar -0.0819. Kurtosis mengukur tajam atau tumpulnya distribusi data. Nilai negatif menunjukkan bahwa distribusi data ini memiliki sedikit ekor yang lebih lebar daripada distribusi normal standar (mesokurtik) yang memiliki kurtosis 0.\n",
    "\n",
    "Hasil statistik ini memberikan gambaran karakteristik data pendapatan kotor produk. Skewness positif menunjukkan bahwa distribusi pendapatan kotor mungkin sedikit condong ke kanan, dan kurtosis yang mendekati nol menunjukkan bahwa distribusi ini hampir mesokurtik, artinya sedikit lebih tumpul daripada distribusi normal standar."
   ]
  },
  {
   "cell_type": "markdown",
   "metadata": {},
   "source": [
    "# F. Pengambilan Kesimpulan \n",
    "\n",
    "Dari hasil analisis data, kita dapat menyimpulkan bahwa cabang 'C' menunjukkan kinerja yang lebih baik dengan total penjualan dan pendapatan kotor yang lebih tinggi dibandingkan dengan cabang 'A' dan 'B'. Meskipun kami memiliki jumlah pelanggan yang hampir setara antara tipe pelanggan 'Member' dan 'Normal', mayoritas pelanggan adalah wanita. Namun, tidak ada tren penjualan yang jelas dari waktu ke waktu, dan metode pembayaran tidak memiliki pengaruh signifikan pada total penjualan. Selain itu, rating produk tidak terkait dengan total penjualan. Produk 'Food and beverages' adalah yang paling banyak terjual dan menghasilkan pendapatan kotor tertinggi. Kota 'Naypyitaw' menunjukkan rata-rata total penjualan dan pendapatan kotor yang lebih tinggi daripada kota 'Mandalay' dan 'Yangon'. Hikmahnya adalah bahwa pemahaman yang mendalam tentang data penjualan ini dapat membantu dalam mengambil keputusan yang lebih tepat, seperti alokasi sumber daya yang lebih baik atau strategi pemasaran yang lebih efektif, yang dapat meningkatkan kinerja bisnis dan kepuasan pelanggan."
   ]
  }
 ],
 "metadata": {
  "kernelspec": {
   "display_name": "Python 3",
   "language": "python",
   "name": "python3"
  },
  "language_info": {
   "codemirror_mode": {
    "name": "ipython",
    "version": 3
   },
   "file_extension": ".py",
   "mimetype": "text/x-python",
   "name": "python",
   "nbconvert_exporter": "python",
   "pygments_lexer": "ipython3",
   "version": "3.11.6"
  }
 },
 "nbformat": 4,
 "nbformat_minor": 2
}
